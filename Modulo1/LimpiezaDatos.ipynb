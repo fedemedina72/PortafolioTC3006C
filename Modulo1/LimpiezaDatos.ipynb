{
 "cells": [
  {
   "cell_type": "markdown",
   "metadata": {},
   "source": [
    "# Limpieza de Datos"
   ]
  },
  {
   "cell_type": "markdown",
   "metadata": {},
   "source": [
    "### Librerías Utilizadas"
   ]
  },
  {
   "cell_type": "code",
   "execution_count": 1,
   "metadata": {},
   "outputs": [],
   "source": [
    "import pandas as pd\n",
    "import numpy as np\n",
    "import matplotlib.pyplot as plt\n",
    "import seaborn as sns"
   ]
  },
  {
   "cell_type": "markdown",
   "metadata": {},
   "source": [
    "### Importamos los datos"
   ]
  },
  {
   "cell_type": "markdown",
   "metadata": {},
   "source": [
    "La base de datos cuenta con 205 registros y 21 variables."
   ]
  },
  {
   "cell_type": "code",
   "execution_count": 2,
   "metadata": {},
   "outputs": [
    {
     "data": {
      "text/html": [
       "<div>\n",
       "<style scoped>\n",
       "    .dataframe tbody tr th:only-of-type {\n",
       "        vertical-align: middle;\n",
       "    }\n",
       "\n",
       "    .dataframe tbody tr th {\n",
       "        vertical-align: top;\n",
       "    }\n",
       "\n",
       "    .dataframe thead th {\n",
       "        text-align: right;\n",
       "    }\n",
       "</style>\n",
       "<table border=\"1\" class=\"dataframe\">\n",
       "  <thead>\n",
       "    <tr style=\"text-align: right;\">\n",
       "      <th></th>\n",
       "      <th>symboling</th>\n",
       "      <th>CarName</th>\n",
       "      <th>fueltype</th>\n",
       "      <th>carbody</th>\n",
       "      <th>drivewheel</th>\n",
       "      <th>enginelocation</th>\n",
       "      <th>wheelbase</th>\n",
       "      <th>carlength</th>\n",
       "      <th>carwidth</th>\n",
       "      <th>carheight</th>\n",
       "      <th>...</th>\n",
       "      <th>enginetype</th>\n",
       "      <th>cylindernumber</th>\n",
       "      <th>enginesize</th>\n",
       "      <th>stroke</th>\n",
       "      <th>compressionratio</th>\n",
       "      <th>horsepower</th>\n",
       "      <th>peakrpm</th>\n",
       "      <th>citympg</th>\n",
       "      <th>highwaympg</th>\n",
       "      <th>price</th>\n",
       "    </tr>\n",
       "  </thead>\n",
       "  <tbody>\n",
       "    <tr>\n",
       "      <th>0</th>\n",
       "      <td>3</td>\n",
       "      <td>alfa-romero giulia</td>\n",
       "      <td>gas</td>\n",
       "      <td>convertible</td>\n",
       "      <td>rwd</td>\n",
       "      <td>front</td>\n",
       "      <td>88.6</td>\n",
       "      <td>168.8</td>\n",
       "      <td>64.1</td>\n",
       "      <td>48.8</td>\n",
       "      <td>...</td>\n",
       "      <td>dohc</td>\n",
       "      <td>four</td>\n",
       "      <td>130</td>\n",
       "      <td>2.68</td>\n",
       "      <td>9.0</td>\n",
       "      <td>111</td>\n",
       "      <td>5000</td>\n",
       "      <td>21</td>\n",
       "      <td>27</td>\n",
       "      <td>13495.0</td>\n",
       "    </tr>\n",
       "    <tr>\n",
       "      <th>1</th>\n",
       "      <td>3</td>\n",
       "      <td>alfa-romero stelvio</td>\n",
       "      <td>gas</td>\n",
       "      <td>convertible</td>\n",
       "      <td>rwd</td>\n",
       "      <td>front</td>\n",
       "      <td>88.6</td>\n",
       "      <td>168.8</td>\n",
       "      <td>64.1</td>\n",
       "      <td>48.8</td>\n",
       "      <td>...</td>\n",
       "      <td>dohc</td>\n",
       "      <td>four</td>\n",
       "      <td>130</td>\n",
       "      <td>2.68</td>\n",
       "      <td>9.0</td>\n",
       "      <td>111</td>\n",
       "      <td>5000</td>\n",
       "      <td>21</td>\n",
       "      <td>27</td>\n",
       "      <td>16500.0</td>\n",
       "    </tr>\n",
       "    <tr>\n",
       "      <th>2</th>\n",
       "      <td>1</td>\n",
       "      <td>alfa-romero Quadrifoglio</td>\n",
       "      <td>gas</td>\n",
       "      <td>hatchback</td>\n",
       "      <td>rwd</td>\n",
       "      <td>front</td>\n",
       "      <td>94.5</td>\n",
       "      <td>171.2</td>\n",
       "      <td>65.5</td>\n",
       "      <td>52.4</td>\n",
       "      <td>...</td>\n",
       "      <td>ohcv</td>\n",
       "      <td>six</td>\n",
       "      <td>152</td>\n",
       "      <td>3.47</td>\n",
       "      <td>9.0</td>\n",
       "      <td>154</td>\n",
       "      <td>5000</td>\n",
       "      <td>19</td>\n",
       "      <td>26</td>\n",
       "      <td>16500.0</td>\n",
       "    </tr>\n",
       "    <tr>\n",
       "      <th>3</th>\n",
       "      <td>2</td>\n",
       "      <td>audi 100 ls</td>\n",
       "      <td>gas</td>\n",
       "      <td>sedan</td>\n",
       "      <td>fwd</td>\n",
       "      <td>front</td>\n",
       "      <td>99.8</td>\n",
       "      <td>176.6</td>\n",
       "      <td>66.2</td>\n",
       "      <td>54.3</td>\n",
       "      <td>...</td>\n",
       "      <td>ohc</td>\n",
       "      <td>four</td>\n",
       "      <td>109</td>\n",
       "      <td>3.40</td>\n",
       "      <td>10.0</td>\n",
       "      <td>102</td>\n",
       "      <td>5500</td>\n",
       "      <td>24</td>\n",
       "      <td>30</td>\n",
       "      <td>13950.0</td>\n",
       "    </tr>\n",
       "    <tr>\n",
       "      <th>4</th>\n",
       "      <td>2</td>\n",
       "      <td>audi 100ls</td>\n",
       "      <td>gas</td>\n",
       "      <td>sedan</td>\n",
       "      <td>4wd</td>\n",
       "      <td>front</td>\n",
       "      <td>99.4</td>\n",
       "      <td>176.6</td>\n",
       "      <td>66.4</td>\n",
       "      <td>54.3</td>\n",
       "      <td>...</td>\n",
       "      <td>ohc</td>\n",
       "      <td>five</td>\n",
       "      <td>136</td>\n",
       "      <td>3.40</td>\n",
       "      <td>8.0</td>\n",
       "      <td>115</td>\n",
       "      <td>5500</td>\n",
       "      <td>18</td>\n",
       "      <td>22</td>\n",
       "      <td>17450.0</td>\n",
       "    </tr>\n",
       "  </tbody>\n",
       "</table>\n",
       "<p>5 rows × 21 columns</p>\n",
       "</div>"
      ],
      "text/plain": [
       "   symboling                   CarName fueltype      carbody drivewheel  \\\n",
       "0          3        alfa-romero giulia      gas  convertible        rwd   \n",
       "1          3       alfa-romero stelvio      gas  convertible        rwd   \n",
       "2          1  alfa-romero Quadrifoglio      gas    hatchback        rwd   \n",
       "3          2               audi 100 ls      gas        sedan        fwd   \n",
       "4          2                audi 100ls      gas        sedan        4wd   \n",
       "\n",
       "  enginelocation  wheelbase  carlength  carwidth  carheight  ...  enginetype  \\\n",
       "0          front       88.6      168.8      64.1       48.8  ...        dohc   \n",
       "1          front       88.6      168.8      64.1       48.8  ...        dohc   \n",
       "2          front       94.5      171.2      65.5       52.4  ...        ohcv   \n",
       "3          front       99.8      176.6      66.2       54.3  ...         ohc   \n",
       "4          front       99.4      176.6      66.4       54.3  ...         ohc   \n",
       "\n",
       "  cylindernumber enginesize  stroke  compressionratio  horsepower  peakrpm  \\\n",
       "0           four        130    2.68               9.0         111     5000   \n",
       "1           four        130    2.68               9.0         111     5000   \n",
       "2            six        152    3.47               9.0         154     5000   \n",
       "3           four        109    3.40              10.0         102     5500   \n",
       "4           five        136    3.40               8.0         115     5500   \n",
       "\n",
       "   citympg  highwaympg    price  \n",
       "0       21          27  13495.0  \n",
       "1       21          27  16500.0  \n",
       "2       19          26  16500.0  \n",
       "3       24          30  13950.0  \n",
       "4       18          22  17450.0  \n",
       "\n",
       "[5 rows x 21 columns]"
      ]
     },
     "execution_count": 2,
     "metadata": {},
     "output_type": "execute_result"
    }
   ],
   "source": [
    "df = pd.read_csv('precios_autos-2.csv')\n",
    "df.head()"
   ]
  },
  {
   "cell_type": "markdown",
   "metadata": {},
   "source": [
    "### Análisis Exploratorio"
   ]
  },
  {
   "cell_type": "markdown",
   "metadata": {},
   "source": [
    "Antes de comenzar a limpiar los datos, se debe hacer un análisis exploratorio para conocer la base de datos y sus valores para así poder detectar anomalías y relaciones en las variables."
   ]
  },
  {
   "cell_type": "markdown",
   "metadata": {},
   "source": [
    "#### Estadística descriptiva"
   ]
  },
  {
   "cell_type": "markdown",
   "metadata": {},
   "source": [
    "Como primer análisis se hará una estadística descriptiva, con la cual se observará de manera superficial los valores de las variables. Observando los datos obtenidos en la siguiente tabla, se encuentran valores que tienen lógica con el contexto que se conoce hasta el momento. La única variable que debería ser categórica según el Diccionario es la variable 'symboling', por lo que se deberá transformar el tipo de dato a objeto para que se pueda manipular de la manera correcta."
   ]
  },
  {
   "cell_type": "code",
   "execution_count": 3,
   "metadata": {},
   "outputs": [],
   "source": [
    "df['symboling'] = df['symboling'].astype('object')"
   ]
  },
  {
   "cell_type": "code",
   "execution_count": 4,
   "metadata": {},
   "outputs": [
    {
     "data": {
      "text/html": [
       "<div>\n",
       "<style scoped>\n",
       "    .dataframe tbody tr th:only-of-type {\n",
       "        vertical-align: middle;\n",
       "    }\n",
       "\n",
       "    .dataframe tbody tr th {\n",
       "        vertical-align: top;\n",
       "    }\n",
       "\n",
       "    .dataframe thead th {\n",
       "        text-align: right;\n",
       "    }\n",
       "</style>\n",
       "<table border=\"1\" class=\"dataframe\">\n",
       "  <thead>\n",
       "    <tr style=\"text-align: right;\">\n",
       "      <th></th>\n",
       "      <th>wheelbase</th>\n",
       "      <th>carlength</th>\n",
       "      <th>carwidth</th>\n",
       "      <th>carheight</th>\n",
       "      <th>curbweight</th>\n",
       "      <th>enginesize</th>\n",
       "      <th>stroke</th>\n",
       "      <th>compressionratio</th>\n",
       "      <th>horsepower</th>\n",
       "      <th>peakrpm</th>\n",
       "      <th>citympg</th>\n",
       "      <th>highwaympg</th>\n",
       "      <th>price</th>\n",
       "    </tr>\n",
       "  </thead>\n",
       "  <tbody>\n",
       "    <tr>\n",
       "      <th>count</th>\n",
       "      <td>205.000000</td>\n",
       "      <td>205.000000</td>\n",
       "      <td>205.000000</td>\n",
       "      <td>205.000000</td>\n",
       "      <td>205.000000</td>\n",
       "      <td>205.000000</td>\n",
       "      <td>205.000000</td>\n",
       "      <td>205.000000</td>\n",
       "      <td>205.000000</td>\n",
       "      <td>205.000000</td>\n",
       "      <td>205.000000</td>\n",
       "      <td>205.000000</td>\n",
       "      <td>205.000000</td>\n",
       "    </tr>\n",
       "    <tr>\n",
       "      <th>mean</th>\n",
       "      <td>98.756585</td>\n",
       "      <td>174.049268</td>\n",
       "      <td>65.907805</td>\n",
       "      <td>53.724878</td>\n",
       "      <td>2555.565854</td>\n",
       "      <td>126.907317</td>\n",
       "      <td>3.255415</td>\n",
       "      <td>10.142537</td>\n",
       "      <td>104.117073</td>\n",
       "      <td>5125.121951</td>\n",
       "      <td>25.219512</td>\n",
       "      <td>30.751220</td>\n",
       "      <td>13276.710571</td>\n",
       "    </tr>\n",
       "    <tr>\n",
       "      <th>std</th>\n",
       "      <td>6.021776</td>\n",
       "      <td>12.337289</td>\n",
       "      <td>2.145204</td>\n",
       "      <td>2.443522</td>\n",
       "      <td>520.680204</td>\n",
       "      <td>41.642693</td>\n",
       "      <td>0.313597</td>\n",
       "      <td>3.972040</td>\n",
       "      <td>39.544167</td>\n",
       "      <td>476.985643</td>\n",
       "      <td>6.542142</td>\n",
       "      <td>6.886443</td>\n",
       "      <td>7988.852332</td>\n",
       "    </tr>\n",
       "    <tr>\n",
       "      <th>min</th>\n",
       "      <td>86.600000</td>\n",
       "      <td>141.100000</td>\n",
       "      <td>60.300000</td>\n",
       "      <td>47.800000</td>\n",
       "      <td>1488.000000</td>\n",
       "      <td>61.000000</td>\n",
       "      <td>2.070000</td>\n",
       "      <td>7.000000</td>\n",
       "      <td>48.000000</td>\n",
       "      <td>4150.000000</td>\n",
       "      <td>13.000000</td>\n",
       "      <td>16.000000</td>\n",
       "      <td>5118.000000</td>\n",
       "    </tr>\n",
       "    <tr>\n",
       "      <th>25%</th>\n",
       "      <td>94.500000</td>\n",
       "      <td>166.300000</td>\n",
       "      <td>64.100000</td>\n",
       "      <td>52.000000</td>\n",
       "      <td>2145.000000</td>\n",
       "      <td>97.000000</td>\n",
       "      <td>3.110000</td>\n",
       "      <td>8.600000</td>\n",
       "      <td>70.000000</td>\n",
       "      <td>4800.000000</td>\n",
       "      <td>19.000000</td>\n",
       "      <td>25.000000</td>\n",
       "      <td>7788.000000</td>\n",
       "    </tr>\n",
       "    <tr>\n",
       "      <th>50%</th>\n",
       "      <td>97.000000</td>\n",
       "      <td>173.200000</td>\n",
       "      <td>65.500000</td>\n",
       "      <td>54.100000</td>\n",
       "      <td>2414.000000</td>\n",
       "      <td>120.000000</td>\n",
       "      <td>3.290000</td>\n",
       "      <td>9.000000</td>\n",
       "      <td>95.000000</td>\n",
       "      <td>5200.000000</td>\n",
       "      <td>24.000000</td>\n",
       "      <td>30.000000</td>\n",
       "      <td>10295.000000</td>\n",
       "    </tr>\n",
       "    <tr>\n",
       "      <th>75%</th>\n",
       "      <td>102.400000</td>\n",
       "      <td>183.100000</td>\n",
       "      <td>66.900000</td>\n",
       "      <td>55.500000</td>\n",
       "      <td>2935.000000</td>\n",
       "      <td>141.000000</td>\n",
       "      <td>3.410000</td>\n",
       "      <td>9.400000</td>\n",
       "      <td>116.000000</td>\n",
       "      <td>5500.000000</td>\n",
       "      <td>30.000000</td>\n",
       "      <td>34.000000</td>\n",
       "      <td>16503.000000</td>\n",
       "    </tr>\n",
       "    <tr>\n",
       "      <th>max</th>\n",
       "      <td>120.900000</td>\n",
       "      <td>208.100000</td>\n",
       "      <td>72.300000</td>\n",
       "      <td>59.800000</td>\n",
       "      <td>4066.000000</td>\n",
       "      <td>326.000000</td>\n",
       "      <td>4.170000</td>\n",
       "      <td>23.000000</td>\n",
       "      <td>288.000000</td>\n",
       "      <td>6600.000000</td>\n",
       "      <td>49.000000</td>\n",
       "      <td>54.000000</td>\n",
       "      <td>45400.000000</td>\n",
       "    </tr>\n",
       "  </tbody>\n",
       "</table>\n",
       "</div>"
      ],
      "text/plain": [
       "        wheelbase   carlength    carwidth   carheight   curbweight  \\\n",
       "count  205.000000  205.000000  205.000000  205.000000   205.000000   \n",
       "mean    98.756585  174.049268   65.907805   53.724878  2555.565854   \n",
       "std      6.021776   12.337289    2.145204    2.443522   520.680204   \n",
       "min     86.600000  141.100000   60.300000   47.800000  1488.000000   \n",
       "25%     94.500000  166.300000   64.100000   52.000000  2145.000000   \n",
       "50%     97.000000  173.200000   65.500000   54.100000  2414.000000   \n",
       "75%    102.400000  183.100000   66.900000   55.500000  2935.000000   \n",
       "max    120.900000  208.100000   72.300000   59.800000  4066.000000   \n",
       "\n",
       "       enginesize      stroke  compressionratio  horsepower      peakrpm  \\\n",
       "count  205.000000  205.000000        205.000000  205.000000   205.000000   \n",
       "mean   126.907317    3.255415         10.142537  104.117073  5125.121951   \n",
       "std     41.642693    0.313597          3.972040   39.544167   476.985643   \n",
       "min     61.000000    2.070000          7.000000   48.000000  4150.000000   \n",
       "25%     97.000000    3.110000          8.600000   70.000000  4800.000000   \n",
       "50%    120.000000    3.290000          9.000000   95.000000  5200.000000   \n",
       "75%    141.000000    3.410000          9.400000  116.000000  5500.000000   \n",
       "max    326.000000    4.170000         23.000000  288.000000  6600.000000   \n",
       "\n",
       "          citympg  highwaympg         price  \n",
       "count  205.000000  205.000000    205.000000  \n",
       "mean    25.219512   30.751220  13276.710571  \n",
       "std      6.542142    6.886443   7988.852332  \n",
       "min     13.000000   16.000000   5118.000000  \n",
       "25%     19.000000   25.000000   7788.000000  \n",
       "50%     24.000000   30.000000  10295.000000  \n",
       "75%     30.000000   34.000000  16503.000000  \n",
       "max     49.000000   54.000000  45400.000000  "
      ]
     },
     "execution_count": 4,
     "metadata": {},
     "output_type": "execute_result"
    }
   ],
   "source": [
    "df.describe()"
   ]
  },
  {
   "cell_type": "markdown",
   "metadata": {},
   "source": [
    "A continuación se muestra los datos descriptivos de las variables categóricas del archivo. Para este, se buscará encontrar los valores con mayor frecuencia de cada variable, cuántos valores únicos tienen y finalmente la frecuencia de los valores que cada variable contiene. Finalmente, se mostrarán gráficos de frecuencia para cada una de las variables para poder tener una mejor comprensión de estas, con excepción de 'CarName' por su extensa cantidad de valores distintos."
   ]
  },
  {
   "cell_type": "code",
   "execution_count": 5,
   "metadata": {},
   "outputs": [
    {
     "data": {
      "text/html": [
       "<div>\n",
       "<style scoped>\n",
       "    .dataframe tbody tr th:only-of-type {\n",
       "        vertical-align: middle;\n",
       "    }\n",
       "\n",
       "    .dataframe tbody tr th {\n",
       "        vertical-align: top;\n",
       "    }\n",
       "\n",
       "    .dataframe thead th {\n",
       "        text-align: right;\n",
       "    }\n",
       "</style>\n",
       "<table border=\"1\" class=\"dataframe\">\n",
       "  <thead>\n",
       "    <tr style=\"text-align: right;\">\n",
       "      <th></th>\n",
       "      <th>symboling</th>\n",
       "      <th>CarName</th>\n",
       "      <th>fueltype</th>\n",
       "      <th>carbody</th>\n",
       "      <th>drivewheel</th>\n",
       "      <th>enginelocation</th>\n",
       "      <th>enginetype</th>\n",
       "      <th>cylindernumber</th>\n",
       "    </tr>\n",
       "  </thead>\n",
       "  <tbody>\n",
       "    <tr>\n",
       "      <th>count</th>\n",
       "      <td>205</td>\n",
       "      <td>205</td>\n",
       "      <td>205</td>\n",
       "      <td>205</td>\n",
       "      <td>205</td>\n",
       "      <td>205</td>\n",
       "      <td>205</td>\n",
       "      <td>205</td>\n",
       "    </tr>\n",
       "    <tr>\n",
       "      <th>unique</th>\n",
       "      <td>6</td>\n",
       "      <td>147</td>\n",
       "      <td>2</td>\n",
       "      <td>5</td>\n",
       "      <td>3</td>\n",
       "      <td>2</td>\n",
       "      <td>7</td>\n",
       "      <td>7</td>\n",
       "    </tr>\n",
       "    <tr>\n",
       "      <th>top</th>\n",
       "      <td>0</td>\n",
       "      <td>toyota corona</td>\n",
       "      <td>gas</td>\n",
       "      <td>sedan</td>\n",
       "      <td>fwd</td>\n",
       "      <td>front</td>\n",
       "      <td>ohc</td>\n",
       "      <td>four</td>\n",
       "    </tr>\n",
       "    <tr>\n",
       "      <th>freq</th>\n",
       "      <td>67</td>\n",
       "      <td>6</td>\n",
       "      <td>185</td>\n",
       "      <td>96</td>\n",
       "      <td>120</td>\n",
       "      <td>202</td>\n",
       "      <td>148</td>\n",
       "      <td>159</td>\n",
       "    </tr>\n",
       "  </tbody>\n",
       "</table>\n",
       "</div>"
      ],
      "text/plain": [
       "        symboling        CarName fueltype carbody drivewheel enginelocation  \\\n",
       "count         205            205      205     205        205            205   \n",
       "unique          6            147        2       5          3              2   \n",
       "top             0  toyota corona      gas   sedan        fwd          front   \n",
       "freq           67              6      185      96        120            202   \n",
       "\n",
       "       enginetype cylindernumber  \n",
       "count         205            205  \n",
       "unique          7              7  \n",
       "top           ohc           four  \n",
       "freq          148            159  "
      ]
     },
     "execution_count": 5,
     "metadata": {},
     "output_type": "execute_result"
    }
   ],
   "source": [
    "df.describe(include='object')"
   ]
  },
  {
   "cell_type": "code",
   "execution_count": 6,
   "metadata": {},
   "outputs": [
    {
     "data": {
      "text/plain": [
       "symboling\n",
       "0     67\n",
       "1     54\n",
       "2     32\n",
       "3     27\n",
       "-1    22\n",
       "-2     3\n",
       "Name: count, dtype: int64"
      ]
     },
     "metadata": {},
     "output_type": "display_data"
    },
    {
     "data": {
      "image/png": "[encoded data removed]",
      "text/plain": [
       "<Figure size 750x350 with 1 Axes>"
      ]
     },
     "metadata": {},
     "output_type": "display_data"
    }
   ],
   "source": [
    "display(df['symboling'].value_counts())\n",
    "\n",
    "plt.rcParams[\"figure.figsize\"] = [7.50, 3.50]\n",
    "plt.rcParams[\"figure.autolayout\"] = True\n",
    "fig, ax = plt.subplots()\n",
    "\n",
    "df['symboling'].value_counts().plot(ax=ax, kind='bar', xlabel='symboling', ylabel='frequency')\n",
    "plt.show()\n"
   ]
  },
  {
   "cell_type": "code",
   "execution_count": 7,
   "metadata": {},
   "outputs": [
    {
     "data": {
      "text/plain": [
       "CarName\n",
       "toyota corona           6\n",
       "toyota corolla          6\n",
       "peugeot 504             6\n",
       "subaru dl               4\n",
       "mitsubishi mirage g4    3\n",
       "                       ..\n",
       "mazda glc 4             1\n",
       "mazda rx2 coupe         1\n",
       "maxda glc deluxe        1\n",
       "maxda rx3               1\n",
       "volvo 246               1\n",
       "Name: count, Length: 147, dtype: int64"
      ]
     },
     "metadata": {},
     "output_type": "display_data"
    }
   ],
   "source": [
    "display(df['CarName'].value_counts())"
   ]
  },
  {
   "cell_type": "code",
   "execution_count": 8,
   "metadata": {},
   "outputs": [
    {
     "data": {
      "text/plain": [
       "fueltype\n",
       "gas       185\n",
       "diesel     20\n",
       "Name: count, dtype: int64"
      ]
     },
     "metadata": {},
     "output_type": "display_data"
    },
    {
     "data": {
      "image/png": "[encoded data removed]",
      "text/plain": [
       "<Figure size 750x350 with 1 Axes>"
      ]
     },
     "metadata": {},
     "output_type": "display_data"
    }
   ],
   "source": [
    "display(df['fueltype'].value_counts())\n",
    "fig, ax = plt.subplots()\n",
    "\n",
    "df['fueltype'].value_counts().plot(ax=ax, kind='bar', xlabel='fueltype', ylabel='frequency')\n",
    "plt.show()"
   ]
  },
  {
   "cell_type": "code",
   "execution_count": 9,
   "metadata": {},
   "outputs": [
    {
     "data": {
      "text/plain": [
       "carbody\n",
       "sedan          96\n",
       "hatchback      70\n",
       "wagon          25\n",
       "hardtop         8\n",
       "convertible     6\n",
       "Name: count, dtype: int64"
      ]
     },
     "metadata": {},
     "output_type": "display_data"
    },
    {
     "data": {
      "image/png": "[encoded data removed]",
      "text/plain": [
       "<Figure size 750x350 with 1 Axes>"
      ]
     },
     "metadata": {},
     "output_type": "display_data"
    }
   ],
   "source": [
    "display(df['carbody'].value_counts())\n",
    "fig, ax = plt.subplots()\n",
    "\n",
    "df['carbody'].value_counts().plot(ax=ax, kind='bar', xlabel='carbody', ylabel='frequency')\n",
    "plt.show()"
   ]
  },
  {
   "cell_type": "code",
   "execution_count": 10,
   "metadata": {},
   "outputs": [
    {
     "data": {
      "text/plain": [
       "drivewheel\n",
       "fwd    120\n",
       "rwd     76\n",
       "4wd      9\n",
       "Name: count, dtype: int64"
      ]
     },
     "metadata": {},
     "output_type": "display_data"
    },
    {
     "data": {
      "image/png": "[encoded data removed]",
      "text/plain": [
       "<Figure size 750x350 with 1 Axes>"
      ]
     },
     "metadata": {},
     "output_type": "display_data"
    }
   ],
   "source": [
    "display(df['drivewheel'].value_counts())\n",
    "fig, ax = plt.subplots()\n",
    "\n",
    "df['drivewheel'].value_counts().plot(ax=ax, kind='bar', xlabel='drivewheel', ylabel='frequency')\n",
    "plt.show()"
   ]
  },
  {
   "cell_type": "code",
   "execution_count": 11,
   "metadata": {},
   "outputs": [
    {
     "data": {
      "text/plain": [
       "enginelocation\n",
       "front    202\n",
       "rear       3\n",
       "Name: count, dtype: int64"
      ]
     },
     "metadata": {},
     "output_type": "display_data"
    },
    {
     "data": {
      "image/png": "[encoded data removed]",
      "text/plain": [
       "<Figure size 750x350 with 1 Axes>"
      ]
     },
     "metadata": {},
     "output_type": "display_data"
    }
   ],
   "source": [
    "display(df['enginelocation'].value_counts())\n",
    "fig, ax = plt.subplots()\n",
    "\n",
    "df['enginelocation'].value_counts().plot(ax=ax, kind='bar', xlabel='enginelocation', ylabel='frequency')\n",
    "plt.show()"
   ]
  },
  {
   "cell_type": "code",
   "execution_count": 12,
   "metadata": {},
   "outputs": [
    {
     "data": {
      "text/plain": [
       "enginetype\n",
       "ohc      148\n",
       "ohcf      15\n",
       "ohcv      13\n",
       "dohc      12\n",
       "l         12\n",
       "rotor      4\n",
       "dohcv      1\n",
       "Name: count, dtype: int64"
      ]
     },
     "metadata": {},
     "output_type": "display_data"
    },
    {
     "data": {
      "image/png": "[encoded data removed]",
      "text/plain": [
       "<Figure size 750x350 with 1 Axes>"
      ]
     },
     "metadata": {},
     "output_type": "display_data"
    }
   ],
   "source": [
    "display(df['enginetype'].value_counts())\n",
    "fig, ax = plt.subplots()\n",
    "\n",
    "df['enginetype'].value_counts().plot(ax=ax, kind='bar', xlabel='enginetype', ylabel='frequency')\n",
    "plt.show()"
   ]
  },
  {
   "cell_type": "code",
   "execution_count": 13,
   "metadata": {},
   "outputs": [
    {
     "data": {
      "text/plain": [
       "cylindernumber\n",
       "four      159\n",
       "six        24\n",
       "five       11\n",
       "eight       5\n",
       "two         4\n",
       "three       1\n",
       "twelve      1\n",
       "Name: count, dtype: int64"
      ]
     },
     "metadata": {},
     "output_type": "display_data"
    },
    {
     "data": {
      "image/png": "[encoded data removed]",
      "text/plain": [
       "<Figure size 750x350 with 1 Axes>"
      ]
     },
     "metadata": {},
     "output_type": "display_data"
    }
   ],
   "source": [
    "display(df['cylindernumber'].value_counts())\n",
    "fig, ax = plt.subplots()\n",
    "\n",
    "df['cylindernumber'].value_counts().plot(ax=ax, kind='bar', xlabel='cylindernumber', ylabel='frequency')\n",
    "plt.show()"
   ]
  },
  {
   "cell_type": "code",
   "execution_count": 14,
   "metadata": {},
   "outputs": [
    {
     "name": "stdout",
     "output_type": "stream",
     "text": [
      "symboling            object\n",
      "CarName              object\n",
      "fueltype             object\n",
      "carbody              object\n",
      "drivewheel           object\n",
      "enginelocation       object\n",
      "wheelbase           float64\n",
      "carlength           float64\n",
      "carwidth            float64\n",
      "carheight           float64\n",
      "curbweight            int64\n",
      "enginetype           object\n",
      "cylindernumber       object\n",
      "enginesize            int64\n",
      "stroke              float64\n",
      "compressionratio    float64\n",
      "horsepower            int64\n",
      "peakrpm               int64\n",
      "citympg               int64\n",
      "highwaympg            int64\n",
      "price               float64\n",
      "dtype: object\n"
     ]
    }
   ],
   "source": [
    "print(df.dtypes)"
   ]
  },
  {
   "cell_type": "markdown",
   "metadata": {},
   "source": [
    "#### Datos Faltantes"
   ]
  },
  {
   "cell_type": "markdown",
   "metadata": {},
   "source": [
    "Podemos observar en la siguiente tabla que todos los datos del archivo están completos, no hay ningún dato nulo."
   ]
  },
  {
   "cell_type": "code",
   "execution_count": 15,
   "metadata": {},
   "outputs": [
    {
     "data": {
      "text/plain": [
       "symboling           0\n",
       "CarName             0\n",
       "fueltype            0\n",
       "carbody             0\n",
       "drivewheel          0\n",
       "enginelocation      0\n",
       "wheelbase           0\n",
       "carlength           0\n",
       "carwidth            0\n",
       "carheight           0\n",
       "curbweight          0\n",
       "enginetype          0\n",
       "cylindernumber      0\n",
       "enginesize          0\n",
       "stroke              0\n",
       "compressionratio    0\n",
       "horsepower          0\n",
       "peakrpm             0\n",
       "citympg             0\n",
       "highwaympg          0\n",
       "price               0\n",
       "dtype: int64"
      ]
     },
     "execution_count": 15,
     "metadata": {},
     "output_type": "execute_result"
    }
   ],
   "source": [
    "df.isnull().sum()"
   ]
  },
  {
   "cell_type": "markdown",
   "metadata": {},
   "source": [
    "#### Histogramas de variables cuantitativas"
   ]
  },
  {
   "cell_type": "markdown",
   "metadata": {},
   "source": [
    "Para poder analizar datos y encontrar valores atípicos dentro de estos, se utilizarán gráficas de Boxplot para identificar cada uno de estos valores, analizarlos y posteriormente más adelante evaluar si se deben de mantener o eliminar de la base de datos."
   ]
  },
  {
   "cell_type": "code",
   "execution_count": 16,
   "metadata": {},
   "outputs": [
    {
     "data": {
      "image/png": "[encoded data removed]",
      "text/plain": [
       "<Figure size 750x350 with 1 Axes>"
      ]
     },
     "metadata": {},
     "output_type": "display_data"
    },
    {
     "data": {
      "image/png": "[encoded data removed]",
      "text/plain": [
       "<Figure size 750x350 with 1 Axes>"
      ]
     },
     "metadata": {},
     "output_type": "display_data"
    },
    {
     "data": {
      "image/png": "[encoded data removed]",
      "text/plain": [
       "<Figure size 750x350 with 1 Axes>"
      ]
     },
     "metadata": {},
     "output_type": "display_data"
    },
    {
     "data": {
      "image/png": "[encoded data removed]",
      "text/plain": [
       "<Figure size 750x350 with 1 Axes>"
      ]
     },
     "metadata": {},
     "output_type": "display_data"
    },
    {
     "data": {
      "image/png": "[encoded data removed]",
      "text/plain": [
       "<Figure size 750x350 with 1 Axes>"
      ]
     },
     "metadata": {},
     "output_type": "display_data"
    },
    {
     "data": {
      "image/png": "[encoded data removed]",
      "text/plain": [
       "<Figure size 750x350 with 1 Axes>"
      ]
     },
     "metadata": {},
     "output_type": "display_data"
    },
    {
     "data": {
      "image/png": "[encoded data removed]",
      "text/plain": [
       "<Figure size 750x350 with 1 Axes>"
      ]
     },
     "metadata": {},
     "output_type": "display_data"
    },
    {
     "data": {
      "image/png": "[encoded data removed]",
      "text/plain": [
       "<Figure size 750x350 with 1 Axes>"
      ]
     },
     "metadata": {},
     "output_type": "display_data"
    },
    {
     "data": {
      "image/png": "[encoded data removed]",
      "text/plain": [
       "<Figure size 750x350 with 1 Axes>"
      ]
     },
     "metadata": {},
     "output_type": "display_data"
    },
    {
     "data": {
      "image/png": "[encoded data removed]",
      "text/plain": [
       "<Figure size 750x350 with 1 Axes>"
      ]
     },
     "metadata": {},
     "output_type": "display_data"
    },
    {
     "data": {
      "image/png": "[encoded data removed]",
      "text/plain": [
       "<Figure size 750x350 with 1 Axes>"
      ]
     },
     "metadata": {},
     "output_type": "display_data"
    },
    {
     "data": {
      "image/png": "[encoded data removed]",
      "text/plain": [
       "<Figure size 750x350 with 1 Axes>"
      ]
     },
     "metadata": {},
     "output_type": "display_data"
    },
    {
     "data": {
      "image/png": "[encoded data removed]",
      "text/plain": [
       "<Figure size 750x350 with 1 Axes>"
      ]
     },
     "metadata": {},
     "output_type": "display_data"
    }
   ],
   "source": [
    "lista = list(df.columns)\n",
    "categoricos = ['symboling', 'CarName', 'fueltype', 'carbody', 'drivewheel', 'enginelocation', 'enginetype', 'cylindernumber']\n",
    "for columna in categoricos:\n",
    "    lista.remove(columna)\n",
    "\n",
    "for col in lista:\n",
    "    ax = df[col].plot(kind='box', title='Boxplot')\n",
    "    plt.show()\n"
   ]
  },
  {
   "cell_type": "markdown",
   "metadata": {},
   "source": [
    "Observando los Boxplots anteriores, encontramos que múltiples variables tienen valores atípicos, los cuales están siendo representados como círculos fuera de los gráficos como tal. Más delante se mostrarán los datos específicos de estos y se manejarán debidamente a su caso."
   ]
  },
  {
   "cell_type": "markdown",
   "metadata": {},
   "source": [
    "#### Análisis de distribución de los datos"
   ]
  },
  {
   "cell_type": "markdown",
   "metadata": {},
   "source": [
    "Para continuar con nuestra exploración de datos, ahora se observará cómo los datos de cada una de las variables cuantitativas se comportan al graficarlas en un histograma. Esto con la intención de encontrar si se distribuyen de manera simétrica o asimétrica."
   ]
  },
  {
   "cell_type": "code",
   "execution_count": 17,
   "metadata": {},
   "outputs": [
    {
     "data": {
      "image/png": "[encoded data removed]",
      "text/plain": [
       "<Figure size 750x350 with 1 Axes>"
      ]
     },
     "metadata": {},
     "output_type": "display_data"
    },
    {
     "data": {
      "image/png": "[encoded data removed]",
      "text/plain": [
       "<Figure size 750x350 with 1 Axes>"
      ]
     },
     "metadata": {},
     "output_type": "display_data"
    },
    {
     "data": {
      "image/png": "[encoded data removed]",
      "text/plain": [
       "<Figure size 750x350 with 1 Axes>"
      ]
     },
     "metadata": {},
     "output_type": "display_data"
    },
    {
     "data": {
      "image/png": "[encoded data removed]",
      "text/plain": [
       "<Figure size 750x350 with 1 Axes>"
      ]
     },
     "metadata": {},
     "output_type": "display_data"
    },
    {
     "data": {
      "image/png": "[encoded data removed]",
      "text/plain": [
       "<Figure size 750x350 with 1 Axes>"
      ]
     },
     "metadata": {},
     "output_type": "display_data"
    },
    {
     "data": {
      "image/png": "[encoded data removed]",
      "text/plain": [
       "<Figure size 750x350 with 1 Axes>"
      ]
     },
     "metadata": {},
     "output_type": "display_data"
    },
    {
     "data": {
      "image/png": "[encoded data removed]",
      "text/plain": [
       "<Figure size 750x350 with 1 Axes>"
      ]
     },
     "metadata": {},
     "output_type": "display_data"
    },
    {
     "data": {
      "image/png": "[encoded data removed]",
      "text/plain": [
       "<Figure size 750x350 with 1 Axes>"
      ]
     },
     "metadata": {},
     "output_type": "display_data"
    },
    {
     "data": {
      "image/png": "[encoded data removed]",
      "text/plain": [
       "<Figure size 750x350 with 1 Axes>"
      ]
     },
     "metadata": {},
     "output_type": "display_data"
    },
    {
     "data": {
      "image/png": "[encoded data removed]",
      "text/plain": [
       "<Figure size 750x350 with 1 Axes>"
      ]
     },
     "metadata": {},
     "output_type": "display_data"
    },
    {
     "data": {
      "image/png": "[encoded data removed]",
      "text/plain": [
       "<Figure size 750x350 with 1 Axes>"
      ]
     },
     "metadata": {},
     "output_type": "display_data"
    },
    {
     "data": {
      "image/png": "[encoded data removed]",
      "text/plain": [
       "<Figure size 750x350 with 1 Axes>"
      ]
     },
     "metadata": {},
     "output_type": "display_data"
    },
    {
     "data": {
      "image/png": "[encoded data removed]",
      "text/plain": [
       "<Figure size 750x350 with 1 Axes>"
      ]
     },
     "metadata": {},
     "output_type": "display_data"
    }
   ],
   "source": [
    "for col in lista:\n",
    "    ax = df[col].plot(kind='hist', title=col)\n",
    "    plt.show()\n"
   ]
  },
  {
   "cell_type": "markdown",
   "metadata": {},
   "source": [
    "Observando los histogramas anteriores, podemos visualizar que las únicas variables que pudieran ser consideradas simétricas son 'carlength', 'carheight', 'peakrpm' y 'citympg'. Sabemos que sin tratar los datos, las gráficas no van a tener un comportamiento simétrico o asimétrico evidente, sino que se tienen que tratar los datos para poder observar con mayor claridad el verdadero comportamiento de estos y ya poder concluir si son asimétricas o simétricas."
   ]
  },
  {
   "cell_type": "markdown",
   "metadata": {},
   "source": [
    "#### Análisis de Colinealidad"
   ]
  },
  {
   "cell_type": "markdown",
   "metadata": {},
   "source": [
    "Para analizar la colinealidad de los datos, se hará una matriz de correlación al igual que un diagrama de dispersión para las variables."
   ]
  },
  {
   "cell_type": "code",
   "execution_count": 18,
   "metadata": {},
   "outputs": [
    {
     "data": {
      "text/html": [
       "<div>\n",
       "<style scoped>\n",
       "    .dataframe tbody tr th:only-of-type {\n",
       "        vertical-align: middle;\n",
       "    }\n",
       "\n",
       "    .dataframe tbody tr th {\n",
       "        vertical-align: top;\n",
       "    }\n",
       "\n",
       "    .dataframe thead th {\n",
       "        text-align: right;\n",
       "    }\n",
       "</style>\n",
       "<table border=\"1\" class=\"dataframe\">\n",
       "  <thead>\n",
       "    <tr style=\"text-align: right;\">\n",
       "      <th></th>\n",
       "      <th>wheelbase</th>\n",
       "      <th>carlength</th>\n",
       "      <th>carwidth</th>\n",
       "      <th>carheight</th>\n",
       "      <th>curbweight</th>\n",
       "      <th>enginesize</th>\n",
       "      <th>stroke</th>\n",
       "      <th>compressionratio</th>\n",
       "      <th>horsepower</th>\n",
       "      <th>peakrpm</th>\n",
       "      <th>citympg</th>\n",
       "      <th>highwaympg</th>\n",
       "      <th>price</th>\n",
       "    </tr>\n",
       "  </thead>\n",
       "  <tbody>\n",
       "    <tr>\n",
       "      <th>0</th>\n",
       "      <td>88.6</td>\n",
       "      <td>168.8</td>\n",
       "      <td>64.1</td>\n",
       "      <td>48.8</td>\n",
       "      <td>2548</td>\n",
       "      <td>130</td>\n",
       "      <td>2.68</td>\n",
       "      <td>9.0</td>\n",
       "      <td>111</td>\n",
       "      <td>5000</td>\n",
       "      <td>21</td>\n",
       "      <td>27</td>\n",
       "      <td>13495.0</td>\n",
       "    </tr>\n",
       "    <tr>\n",
       "      <th>1</th>\n",
       "      <td>88.6</td>\n",
       "      <td>168.8</td>\n",
       "      <td>64.1</td>\n",
       "      <td>48.8</td>\n",
       "      <td>2548</td>\n",
       "      <td>130</td>\n",
       "      <td>2.68</td>\n",
       "      <td>9.0</td>\n",
       "      <td>111</td>\n",
       "      <td>5000</td>\n",
       "      <td>21</td>\n",
       "      <td>27</td>\n",
       "      <td>16500.0</td>\n",
       "    </tr>\n",
       "    <tr>\n",
       "      <th>2</th>\n",
       "      <td>94.5</td>\n",
       "      <td>171.2</td>\n",
       "      <td>65.5</td>\n",
       "      <td>52.4</td>\n",
       "      <td>2823</td>\n",
       "      <td>152</td>\n",
       "      <td>3.47</td>\n",
       "      <td>9.0</td>\n",
       "      <td>154</td>\n",
       "      <td>5000</td>\n",
       "      <td>19</td>\n",
       "      <td>26</td>\n",
       "      <td>16500.0</td>\n",
       "    </tr>\n",
       "    <tr>\n",
       "      <th>3</th>\n",
       "      <td>99.8</td>\n",
       "      <td>176.6</td>\n",
       "      <td>66.2</td>\n",
       "      <td>54.3</td>\n",
       "      <td>2337</td>\n",
       "      <td>109</td>\n",
       "      <td>3.40</td>\n",
       "      <td>10.0</td>\n",
       "      <td>102</td>\n",
       "      <td>5500</td>\n",
       "      <td>24</td>\n",
       "      <td>30</td>\n",
       "      <td>13950.0</td>\n",
       "    </tr>\n",
       "    <tr>\n",
       "      <th>4</th>\n",
       "      <td>99.4</td>\n",
       "      <td>176.6</td>\n",
       "      <td>66.4</td>\n",
       "      <td>54.3</td>\n",
       "      <td>2824</td>\n",
       "      <td>136</td>\n",
       "      <td>3.40</td>\n",
       "      <td>8.0</td>\n",
       "      <td>115</td>\n",
       "      <td>5500</td>\n",
       "      <td>18</td>\n",
       "      <td>22</td>\n",
       "      <td>17450.0</td>\n",
       "    </tr>\n",
       "  </tbody>\n",
       "</table>\n",
       "</div>"
      ],
      "text/plain": [
       "   wheelbase  carlength  carwidth  carheight  curbweight  enginesize  stroke  \\\n",
       "0       88.6      168.8      64.1       48.8        2548         130    2.68   \n",
       "1       88.6      168.8      64.1       48.8        2548         130    2.68   \n",
       "2       94.5      171.2      65.5       52.4        2823         152    3.47   \n",
       "3       99.8      176.6      66.2       54.3        2337         109    3.40   \n",
       "4       99.4      176.6      66.4       54.3        2824         136    3.40   \n",
       "\n",
       "   compressionratio  horsepower  peakrpm  citympg  highwaympg    price  \n",
       "0               9.0         111     5000       21          27  13495.0  \n",
       "1               9.0         111     5000       21          27  16500.0  \n",
       "2               9.0         154     5000       19          26  16500.0  \n",
       "3              10.0         102     5500       24          30  13950.0  \n",
       "4               8.0         115     5500       18          22  17450.0  "
      ]
     },
     "execution_count": 18,
     "metadata": {},
     "output_type": "execute_result"
    }
   ],
   "source": [
    "cuantitativo = df.drop(['symboling', 'CarName', 'fueltype', 'carbody', 'drivewheel', 'enginelocation', 'enginetype', 'cylindernumber'], axis=1)\n",
    "cuantitativo.head()"
   ]
  },
  {
   "cell_type": "code",
   "execution_count": 19,
   "metadata": {},
   "outputs": [
    {
     "data": {
      "text/plain": [
       "<Axes: >"
      ]
     },
     "execution_count": 19,
     "metadata": {},
     "output_type": "execute_result"
    },
    {
     "data": {
      "image/png": "[encoded data removed]",
      "text/plain": [
       "<Figure size 1000x1000 with 2 Axes>"
      ]
     },
     "metadata": {},
     "output_type": "display_data"
    }
   ],
   "source": [
    "plt.rcParams[\"figure.figsize\"] = [10, 10]\n",
    "plt.rcParams[\"figure.autolayout\"] = True\n",
    "fig, ax = plt.subplots()\n",
    "sns.heatmap(cuantitativo.corr(), vmin=-1, vmax=1, annot=True)"
   ]
  },
  {
   "cell_type": "code",
   "execution_count": 37,
   "metadata": {},
   "outputs": [
    {
     "data": {
      "application/vnd.plotly.v1+json": {
       "config": {
        "plotlyServerURL": "https://plot.ly"
       },
       "data": [
        {
         "dimensions": [
          {
           "axis": {
            "matches": true
           },
           "label": "wheelbase",
           "values": [
            88.6,
            88.6,
            94.5,
            99.8,
            99.4,
            99.8,
            105.8,
            105.8,
            105.8,
            99.5,
            101.2,
            101.2,
            101.2,
            101.2,
            103.5,
            103.5,
            103.5,
            110,
            88.4,
            94.5,
            94.5,
            93.7,
            93.7,
            93.7,
            93.7,
            93.7,
            93.7,
            93.7,
            103.3,
            95.9,
            86.6,
            86.6,
            93.7,
            93.7,
            93.7,
            96.5,
            96.5,
            96.5,
            96.5,
            96.5,
            96.5,
            96.5,
            96.5,
            94.3,
            94.5,
            94.5,
            96,
            113,
            113,
            102,
            93.1,
            93.1,
            93.1,
            93.1,
            93.1,
            95.3,
            95.3,
            95.3,
            95.3,
            98.8,
            98.8,
            98.8,
            98.8,
            98.8,
            98.8,
            104.9,
            104.9,
            110,
            110,
            106.7,
            115.6,
            115.6,
            96.6,
            120.9,
            112,
            102.7,
            93.7,
            93.7,
            93.7,
            93,
            96.3,
            96.3,
            95.9,
            95.9,
            95.9,
            96.3,
            96.3,
            96.3,
            96.3,
            94.5,
            94.5,
            94.5,
            94.5,
            94.5,
            94.5,
            94.5,
            94.5,
            94.5,
            95.1,
            97.2,
            97.2,
            100.4,
            100.4,
            100.4,
            91.3,
            91.3,
            99.2,
            107.9,
            107.9,
            114.2,
            114.2,
            107.9,
            107.9,
            114.2,
            114.2,
            107.9,
            107.9,
            108,
            93.7,
            93.7,
            93.7,
            93.7,
            93.7,
            103.3,
            95.9,
            94.5,
            89.5,
            89.5,
            89.5,
            98.4,
            96.1,
            96.1,
            99.1,
            99.1,
            99.1,
            99.1,
            99.1,
            99.1,
            93.7,
            93.7,
            93.3,
            97.2,
            97.2,
            97.2,
            97,
            97,
            97,
            97,
            96.9,
            96.9,
            95.7,
            95.7,
            95.7,
            95.7,
            95.7,
            95.7,
            95.7,
            95.7,
            95.7,
            95.7,
            95.7,
            95.7,
            95.7,
            94.5,
            94.5,
            94.5,
            94.5,
            98.4,
            98.4,
            98.4,
            98.4,
            98.4,
            98.4,
            102.4,
            102.4,
            102.4,
            102.4,
            102.4,
            102.9,
            102.9,
            104.5,
            104.5,
            97.3,
            97.3,
            97.3,
            97.3,
            97.3,
            97.3,
            97.3,
            94.5,
            94.5,
            100.4,
            100.4,
            100.4,
            104.3,
            104.3,
            104.3,
            104.3,
            104.3,
            104.3,
            109.1,
            109.1,
            109.1,
            109.1,
            109.1
           ]
          },
          {
           "axis": {
            "matches": true
           },
           "label": "carlength",
           "values": [
            168.8,
            168.8,
            171.2,
            176.6,
            176.6,
            177.3,
            192.7,
            192.7,
            192.7,
            178.2,
            176.8,
            176.8,
            176.8,
            176.8,
            189,
            189,
            193.8,
            197,
            141.1,
            155.9,
            158.8,
            157.3,
            157.3,
            157.3,
            157.3,
            157.3,
            157.3,
            157.3,
            174.6,
            173.2,
            144.6,
            144.6,
            150,
            150,
            150,
            163.4,
            157.1,
            167.5,
            167.5,
            175.4,
            175.4,
            175.4,
            169.1,
            170.7,
            155.9,
            155.9,
            172.6,
            199.6,
            199.6,
            191.7,
            159.1,
            159.1,
            159.1,
            166.8,
            166.8,
            169,
            169,
            169,
            169,
            177.8,
            177.8,
            177.8,
            177.8,
            177.8,
            177.8,
            175,
            175,
            190.9,
            190.9,
            187.5,
            202.6,
            202.6,
            180.3,
            208.1,
            199.2,
            178.4,
            157.3,
            157.3,
            157.3,
            157.3,
            173,
            173,
            173.2,
            173.2,
            173.2,
            172.4,
            172.4,
            172.4,
            172.4,
            165.3,
            165.3,
            165.3,
            165.3,
            170.2,
            165.3,
            165.6,
            165.3,
            170.2,
            162.4,
            173.4,
            173.4,
            181.7,
            184.6,
            184.6,
            170.7,
            170.7,
            178.5,
            186.7,
            186.7,
            198.9,
            198.9,
            186.7,
            186.7,
            198.9,
            198.9,
            186.7,
            186.7,
            186.7,
            157.3,
            157.3,
            157.3,
            167.3,
            167.3,
            174.6,
            173.2,
            168.9,
            168.9,
            168.9,
            168.9,
            175.7,
            181.5,
            176.8,
            186.6,
            186.6,
            186.6,
            186.6,
            186.6,
            186.6,
            156.9,
            157.9,
            157.3,
            172,
            172,
            172,
            172,
            172,
            173.5,
            173.5,
            173.6,
            173.6,
            158.7,
            158.7,
            158.7,
            169.7,
            169.7,
            169.7,
            166.3,
            166.3,
            166.3,
            166.3,
            166.3,
            166.3,
            166.3,
            168.7,
            168.7,
            168.7,
            168.7,
            176.2,
            176.2,
            176.2,
            176.2,
            176.2,
            176.2,
            175.6,
            175.6,
            175.6,
            175.6,
            175.6,
            183.5,
            183.5,
            187.8,
            187.8,
            171.7,
            171.7,
            171.7,
            171.7,
            171.7,
            171.7,
            171.7,
            159.3,
            165.7,
            180.2,
            180.2,
            183.1,
            188.8,
            188.8,
            188.8,
            188.8,
            188.8,
            188.8,
            188.8,
            188.8,
            188.8,
            188.8,
            188.8
           ]
          },
          {
           "axis": {
            "matches": true
           },
           "label": "carwidth",
           "values": [
            64.1,
            64.1,
            65.5,
            66.2,
            66.4,
            66.3,
            71.4,
            71.4,
            71.4,
            67.9,
            64.8,
            64.8,
            64.8,
            64.8,
            66.9,
            66.9,
            67.9,
            70.9,
            60.3,
            63.6,
            63.6,
            63.8,
            63.8,
            63.8,
            63.8,
            63.8,
            63.8,
            63.8,
            64.6,
            66.3,
            63.9,
            63.9,
            64,
            64,
            64,
            64,
            63.9,
            65.2,
            65.2,
            65.2,
            62.5,
            65.2,
            66,
            61.8,
            63.6,
            63.6,
            65.2,
            69.6,
            69.6,
            70.6,
            64.2,
            64.2,
            64.2,
            64.2,
            64.2,
            65.7,
            65.7,
            65.7,
            65.7,
            66.5,
            66.5,
            66.5,
            66.5,
            66.5,
            66.5,
            66.1,
            66.1,
            70.3,
            70.3,
            70.3,
            71.7,
            71.7,
            70.5,
            71.7,
            72,
            68,
            64.4,
            64.4,
            64.4,
            63.8,
            65.4,
            65.4,
            66.3,
            66.3,
            66.3,
            65.4,
            65.4,
            65.4,
            65.4,
            63.8,
            63.8,
            63.8,
            63.8,
            63.8,
            63.8,
            63.8,
            63.8,
            63.8,
            63.8,
            65.2,
            65.2,
            66.5,
            66.5,
            66.5,
            67.9,
            67.9,
            67.9,
            68.4,
            68.4,
            68.4,
            68.4,
            68.4,
            68.4,
            68.4,
            68.4,
            68.4,
            68.4,
            68.3,
            63.8,
            63.8,
            63.8,
            63.8,
            63.8,
            64.6,
            66.3,
            68.3,
            65,
            65,
            65,
            72.3,
            66.5,
            66.6,
            66.5,
            66.5,
            66.5,
            66.5,
            66.5,
            66.5,
            63.4,
            63.6,
            63.8,
            65.4,
            65.4,
            65.4,
            65.4,
            65.4,
            65.4,
            65.4,
            65.4,
            65.4,
            63.6,
            63.6,
            63.6,
            63.6,
            63.6,
            63.6,
            64.4,
            64.4,
            64.4,
            64.4,
            64.4,
            64.4,
            64.4,
            64,
            64,
            64,
            64,
            65.6,
            65.6,
            65.6,
            65.6,
            65.6,
            65.6,
            66.5,
            66.5,
            66.5,
            66.5,
            66.5,
            67.7,
            67.7,
            66.5,
            66.5,
            65.5,
            65.5,
            65.5,
            65.5,
            65.5,
            65.5,
            65.5,
            64.2,
            64,
            66.9,
            66.9,
            66.9,
            67.2,
            67.2,
            67.2,
            67.2,
            67.2,
            67.2,
            68.9,
            68.8,
            68.9,
            68.9,
            68.9
           ]
          },
          {
           "axis": {
            "matches": true
           },
           "label": "carheight",
           "values": [
            48.8,
            48.8,
            52.4,
            54.3,
            54.3,
            53.1,
            55.7,
            55.7,
            55.9,
            52,
            54.3,
            54.3,
            54.3,
            54.3,
            55.7,
            55.7,
            53.7,
            56.3,
            53.2,
            52,
            52,
            50.8,
            50.8,
            50.8,
            50.6,
            50.6,
            50.6,
            50.6,
            59.8,
            50.2,
            50.8,
            50.8,
            52.6,
            52.6,
            52.6,
            54.5,
            58.3,
            53.3,
            53.3,
            54.1,
            54.1,
            54.1,
            51,
            53.5,
            52,
            52,
            51.4,
            52.8,
            52.8,
            47.8,
            54.1,
            54.1,
            54.1,
            54.1,
            54.1,
            49.6,
            49.6,
            49.6,
            49.6,
            53.7,
            55.5,
            53.7,
            55.5,
            55.5,
            55.5,
            54.4,
            54.4,
            56.5,
            58.7,
            54.9,
            56.3,
            56.5,
            50.8,
            56.7,
            55.4,
            54.8,
            50.8,
            50.8,
            50.8,
            50.8,
            49.4,
            49.4,
            50.2,
            50.2,
            50.2,
            51.6,
            51.6,
            51.6,
            51.6,
            54.5,
            54.5,
            54.5,
            54.5,
            53.5,
            54.5,
            53.3,
            54.5,
            53.5,
            53.3,
            54.7,
            54.7,
            55.1,
            56.1,
            55.1,
            49.7,
            49.7,
            49.7,
            56.7,
            56.7,
            58.7,
            58.7,
            56.7,
            56.7,
            56.7,
            58.7,
            56.7,
            56.7,
            56,
            50.8,
            50.8,
            50.6,
            50.8,
            50.8,
            59.8,
            50.2,
            50.2,
            51.6,
            51.6,
            51.6,
            50.5,
            55.2,
            50.5,
            56.1,
            56.1,
            56.1,
            56.1,
            56.1,
            56.1,
            53.7,
            53.7,
            55.7,
            52.5,
            52.5,
            52.5,
            54.3,
            54.3,
            53,
            53,
            54.9,
            54.9,
            54.5,
            54.5,
            54.5,
            59.1,
            59.1,
            59.1,
            53,
            52.8,
            53,
            52.8,
            53,
            52.8,
            52.8,
            52.6,
            52.6,
            52.6,
            52.6,
            52,
            52,
            52,
            52,
            52,
            53,
            54.9,
            54.9,
            53.9,
            54.9,
            53.9,
            52,
            52,
            54.1,
            54.1,
            55.7,
            55.7,
            55.7,
            55.7,
            55.7,
            55.7,
            55.7,
            55.6,
            51.4,
            55.1,
            55.1,
            55.1,
            56.2,
            57.5,
            56.2,
            57.5,
            56.2,
            57.5,
            55.5,
            55.5,
            55.5,
            55.5,
            55.5
           ]
          },
          {
           "axis": {
            "matches": true
           },
           "label": "curbweight",
           "values": [
            2548,
            2548,
            2823,
            2337,
            2824,
            2507,
            2844,
            2954,
            3086,
            3053,
            2395,
            2395,
            2710,
            2765,
            3055,
            3230,
            3380,
            3505,
            1488,
            1874,
            1909,
            1876,
            1876,
            2128,
            1967,
            1989,
            1989,
            2191,
            2535,
            2811,
            1713,
            1819,
            1837,
            1940,
            1956,
            2010,
            2024,
            2236,
            2289,
            2304,
            2372,
            2465,
            2293,
            2337,
            1874,
            1909,
            2734,
            4066,
            4066,
            3950,
            1890,
            1900,
            1905,
            1945,
            1950,
            2380,
            2380,
            2385,
            2500,
            2385,
            2410,
            2385,
            2410,
            2443,
            2425,
            2670,
            2700,
            3515,
            3750,
            3495,
            3770,
            3740,
            3685,
            3900,
            3715,
            2910,
            1918,
            1944,
            2004,
            2145,
            2370,
            2328,
            2833,
            2921,
            2926,
            2365,
            2405,
            2403,
            2403,
            1889,
            2017,
            1918,
            1938,
            2024,
            1951,
            2028,
            1971,
            2037,
            2008,
            2324,
            2302,
            3095,
            3296,
            3060,
            3071,
            3139,
            3139,
            3020,
            3197,
            3230,
            3430,
            3075,
            3252,
            3285,
            3485,
            3075,
            3252,
            3130,
            1918,
            2128,
            1967,
            1989,
            2191,
            2535,
            2818,
            2778,
            2756,
            2756,
            2800,
            3366,
            2579,
            2460,
            2658,
            2695,
            2707,
            2758,
            2808,
            2847,
            2050,
            2120,
            2240,
            2145,
            2190,
            2340,
            2385,
            2510,
            2290,
            2455,
            2420,
            2650,
            1985,
            2040,
            2015,
            2280,
            2290,
            3110,
            2081,
            2109,
            2275,
            2275,
            2094,
            2122,
            2140,
            2169,
            2204,
            2265,
            2300,
            2540,
            2536,
            2551,
            2679,
            2714,
            2975,
            2326,
            2480,
            2414,
            2414,
            2458,
            2976,
            3016,
            3131,
            3151,
            2261,
            2209,
            2264,
            2212,
            2275,
            2319,
            2300,
            2254,
            2221,
            2661,
            2579,
            2563,
            2912,
            3034,
            2935,
            3042,
            3045,
            3157,
            2952,
            3049,
            3012,
            3217,
            3062
           ]
          },
          {
           "axis": {
            "matches": true
           },
           "label": "enginesize",
           "values": [
            130,
            130,
            152,
            109,
            136,
            136,
            136,
            136,
            131,
            131,
            108,
            108,
            164,
            164,
            164,
            209,
            209,
            209,
            61,
            90,
            90,
            90,
            90,
            98,
            90,
            90,
            90,
            98,
            122,
            156,
            92,
            92,
            79,
            92,
            92,
            92,
            92,
            110,
            110,
            110,
            110,
            110,
            110,
            111,
            90,
            90,
            119,
            258,
            258,
            326,
            91,
            91,
            91,
            91,
            91,
            70,
            70,
            70,
            80,
            122,
            122,
            122,
            122,
            122,
            122,
            140,
            134,
            183,
            183,
            183,
            183,
            234,
            234,
            308,
            304,
            140,
            92,
            92,
            92,
            98,
            110,
            122,
            156,
            156,
            156,
            122,
            122,
            110,
            110,
            97,
            103,
            97,
            97,
            97,
            97,
            97,
            97,
            97,
            97,
            120,
            120,
            181,
            181,
            181,
            181,
            181,
            181,
            120,
            152,
            120,
            152,
            120,
            152,
            120,
            152,
            120,
            152,
            134,
            90,
            98,
            90,
            90,
            98,
            122,
            156,
            151,
            194,
            194,
            194,
            203,
            132,
            132,
            121,
            121,
            121,
            121,
            121,
            121,
            97,
            108,
            108,
            108,
            108,
            108,
            108,
            108,
            108,
            108,
            108,
            108,
            92,
            92,
            92,
            92,
            92,
            92,
            98,
            98,
            110,
            110,
            98,
            98,
            98,
            98,
            98,
            98,
            98,
            146,
            146,
            146,
            146,
            146,
            146,
            122,
            110,
            122,
            122,
            122,
            171,
            171,
            171,
            161,
            97,
            109,
            97,
            109,
            109,
            97,
            109,
            109,
            109,
            136,
            97,
            109,
            141,
            141,
            141,
            141,
            130,
            130,
            141,
            141,
            173,
            145,
            141
           ]
          },
          {
           "axis": {
            "matches": true
           },
           "label": "stroke",
           "values": [
            2.68,
            2.68,
            3.47,
            3.4,
            3.4,
            3.4,
            3.4,
            3.4,
            3.4,
            3.4,
            2.8,
            2.8,
            3.19,
            3.19,
            3.19,
            3.39,
            3.39,
            3.39,
            3.03,
            3.11,
            3.11,
            3.23,
            3.23,
            3.39,
            3.23,
            3.23,
            3.23,
            3.39,
            3.46,
            3.9,
            3.41,
            3.41,
            3.07,
            3.41,
            3.41,
            3.41,
            3.41,
            3.58,
            3.58,
            3.58,
            3.58,
            3.58,
            3.58,
            3.23,
            3.11,
            3.11,
            3.23,
            4.17,
            4.17,
            2.76,
            3.15,
            3.15,
            3.15,
            3.15,
            3.15,
            3.255,
            3.255,
            3.255,
            3.255,
            3.39,
            3.39,
            3.39,
            3.39,
            3.39,
            3.39,
            3.16,
            3.64,
            3.64,
            3.64,
            3.64,
            3.64,
            3.1,
            3.1,
            3.35,
            3.35,
            3.12,
            3.23,
            3.23,
            3.23,
            3.39,
            3.46,
            3.46,
            3.86,
            3.86,
            3.86,
            3.46,
            3.46,
            3.46,
            3.46,
            3.29,
            3.47,
            3.29,
            3.29,
            3.29,
            3.29,
            3.29,
            3.29,
            3.29,
            3.29,
            3.47,
            3.47,
            3.27,
            3.27,
            3.27,
            3.27,
            3.27,
            3.27,
            3.19,
            3.52,
            3.19,
            3.52,
            2.19,
            3.52,
            2.19,
            3.52,
            3.19,
            3.52,
            3.21,
            3.23,
            3.39,
            3.23,
            3.23,
            3.23,
            3.46,
            3.86,
            3.11,
            2.9,
            2.9,
            2.9,
            3.11,
            3.9,
            3.9,
            3.07,
            3.07,
            2.07,
            3.07,
            3.07,
            3.07,
            2.36,
            2.64,
            2.64,
            2.64,
            2.64,
            2.64,
            2.64,
            2.64,
            2.64,
            2.64,
            2.64,
            2.64,
            3.03,
            3.03,
            3.03,
            3.03,
            3.03,
            3.03,
            3.03,
            3.03,
            3.35,
            3.35,
            3.03,
            3.03,
            3.03,
            3.03,
            3.03,
            3.08,
            3.08,
            3.5,
            3.5,
            3.5,
            3.5,
            3.5,
            3.5,
            3.54,
            3.35,
            3.54,
            3.54,
            3.54,
            3.35,
            3.35,
            3.35,
            3.35,
            3.4,
            3.4,
            3.4,
            3.4,
            3.4,
            3.4,
            3.4,
            3.4,
            3.4,
            3.4,
            3.4,
            3.4,
            3.15,
            3.15,
            3.15,
            3.15,
            3.15,
            3.15,
            3.15,
            3.15,
            2.87,
            3.4,
            3.15
           ]
          },
          {
           "axis": {
            "matches": true
           },
           "label": "compressionratio",
           "values": [
            9,
            9,
            9,
            10,
            8,
            8.5,
            8.5,
            8.5,
            8.3,
            7,
            8.8,
            8.8,
            9,
            9,
            9,
            8,
            8,
            8,
            9.5,
            9.6,
            9.6,
            9.41,
            9.4,
            7.6,
            9.4,
            9.4,
            9.4,
            7.6,
            8.5,
            7,
            9.6,
            9.2,
            10.1,
            9.2,
            9.2,
            9.2,
            9.2,
            9,
            9,
            9,
            9,
            9,
            9.1,
            8.5,
            9.6,
            9.6,
            9.2,
            8.1,
            8.1,
            11.5,
            9,
            9,
            9,
            9,
            9,
            9.4,
            9.4,
            9.4,
            9.4,
            8.6,
            8.6,
            8.6,
            8.6,
            22.7,
            8.6,
            8,
            22,
            21.5,
            21.5,
            21.5,
            21.5,
            8.3,
            8.3,
            8,
            8,
            8,
            9.4,
            9.4,
            9.4,
            7.6,
            7.5,
            8.5,
            7,
            7,
            7,
            8.5,
            8.5,
            7.5,
            7.5,
            9.4,
            21.9,
            9.4,
            9.4,
            9.4,
            9.4,
            9.4,
            9.4,
            9.4,
            9.4,
            8.5,
            8.5,
            9,
            9,
            9,
            9,
            7.8,
            9,
            8.4,
            21,
            8.4,
            21,
            8.4,
            21,
            8.4,
            21,
            8.4,
            21,
            7,
            9.4,
            7.6,
            9.4,
            9.4,
            9.4,
            8.5,
            7,
            9.5,
            9.5,
            9.5,
            9.5,
            10,
            8.7,
            8.7,
            9.31,
            9.3,
            9.3,
            9.3,
            9,
            9,
            9,
            8.7,
            8.7,
            9.5,
            9.5,
            9,
            9,
            7.7,
            9,
            9,
            9,
            7.7,
            9,
            9,
            9,
            9,
            9,
            9,
            9,
            9,
            22.5,
            22.5,
            9,
            9,
            9,
            9,
            9,
            9.4,
            9.4,
            9.3,
            9.3,
            9.3,
            9.3,
            9.3,
            9.3,
            8.7,
            22.5,
            8.7,
            8.7,
            8.7,
            9.3,
            9.3,
            9.2,
            9.2,
            23,
            9,
            23,
            9,
            9,
            23,
            10,
            8.5,
            8.5,
            8.5,
            23,
            9,
            9.5,
            9.5,
            9.5,
            9.5,
            7.5,
            7.5,
            9.5,
            8.7,
            8.8,
            23,
            9.5
           ]
          },
          {
           "axis": {
            "matches": true
           },
           "label": "horsepower",
           "values": [
            111,
            111,
            154,
            102,
            115,
            110,
            110,
            110,
            140,
            160,
            101,
            101,
            121,
            121,
            121,
            182,
            182,
            182,
            48,
            70,
            70,
            68,
            68,
            102,
            68,
            68,
            68,
            102,
            88,
            145,
            58,
            76,
            60,
            76,
            76,
            76,
            76,
            86,
            86,
            86,
            86,
            101,
            100,
            78,
            70,
            70,
            90,
            176,
            176,
            262,
            68,
            68,
            68,
            68,
            68,
            101,
            101,
            101,
            135,
            84,
            84,
            84,
            84,
            64,
            84,
            120,
            72,
            123,
            123,
            123,
            123,
            155,
            155,
            184,
            184,
            175,
            68,
            68,
            68,
            102,
            116,
            88,
            145,
            145,
            145,
            88,
            88,
            116,
            116,
            69,
            55,
            69,
            69,
            69,
            69,
            69,
            69,
            69,
            69,
            97,
            97,
            152,
            152,
            152,
            160,
            200,
            160,
            97,
            95,
            97,
            95,
            95,
            95,
            95,
            95,
            97,
            95,
            142,
            68,
            102,
            68,
            68,
            68,
            88,
            145,
            143,
            207,
            207,
            207,
            288,
            90,
            90,
            110,
            110,
            110,
            110,
            160,
            160,
            69,
            73,
            73,
            82,
            82,
            94,
            82,
            111,
            82,
            94,
            82,
            111,
            62,
            62,
            62,
            62,
            62,
            62,
            70,
            70,
            56,
            56,
            70,
            70,
            70,
            70,
            70,
            112,
            112,
            116,
            116,
            116,
            116,
            116,
            116,
            92,
            73,
            92,
            92,
            92,
            161,
            161,
            156,
            156,
            52,
            85,
            52,
            85,
            85,
            68,
            100,
            90,
            90,
            110,
            68,
            88,
            114,
            114,
            114,
            114,
            162,
            162,
            114,
            160,
            134,
            106,
            114
           ]
          },
          {
           "axis": {
            "matches": true
           },
           "label": "peakrpm",
           "values": [
            5000,
            5000,
            5000,
            5500,
            5500,
            5500,
            5500,
            5500,
            5500,
            5500,
            5800,
            5800,
            4250,
            4250,
            4250,
            5400,
            5400,
            5400,
            5100,
            5400,
            5400,
            5500,
            5500,
            5500,
            5500,
            5500,
            5500,
            5500,
            5000,
            5000,
            4800,
            6000,
            5500,
            6000,
            6000,
            6000,
            6000,
            5800,
            5800,
            5800,
            5800,
            5800,
            5500,
            4800,
            5400,
            5400,
            5000,
            4750,
            4750,
            5000,
            5000,
            5000,
            5000,
            5000,
            5000,
            6000,
            6000,
            6000,
            6000,
            4800,
            4800,
            4800,
            4800,
            4650,
            4800,
            5000,
            4200,
            4350,
            4350,
            4350,
            4350,
            4750,
            4750,
            4500,
            4500,
            5000,
            5500,
            5500,
            5500,
            5500,
            5500,
            5000,
            5000,
            5000,
            5000,
            5000,
            5000,
            5500,
            5500,
            5200,
            4800,
            5200,
            5200,
            5200,
            5200,
            5200,
            5200,
            5200,
            5200,
            5200,
            5200,
            5200,
            5200,
            5200,
            5200,
            5200,
            5200,
            5000,
            4150,
            5000,
            4150,
            5000,
            4150,
            5000,
            4150,
            5000,
            4150,
            5600,
            5500,
            5500,
            5500,
            5500,
            5500,
            5000,
            5000,
            5500,
            5900,
            5900,
            5900,
            5750,
            5100,
            5100,
            5250,
            5250,
            5250,
            5250,
            5500,
            5500,
            4900,
            4400,
            4400,
            4800,
            4400,
            5200,
            4800,
            4800,
            4800,
            5200,
            4800,
            4800,
            4800,
            4800,
            4800,
            4800,
            4800,
            4800,
            4800,
            4800,
            4500,
            4500,
            4800,
            4800,
            4800,
            4800,
            4800,
            6600,
            6600,
            4800,
            4800,
            4800,
            4800,
            4800,
            4800,
            4200,
            4500,
            4200,
            4200,
            4200,
            5200,
            5200,
            5200,
            5200,
            4800,
            5250,
            4800,
            5250,
            5250,
            4500,
            5500,
            5500,
            5500,
            5500,
            4500,
            5500,
            5400,
            5400,
            5400,
            5400,
            5100,
            5100,
            5400,
            5300,
            5500,
            4800,
            5400
           ]
          },
          {
           "axis": {
            "matches": true
           },
           "label": "citympg",
           "values": [
            21,
            21,
            19,
            24,
            18,
            19,
            19,
            19,
            17,
            16,
            23,
            23,
            21,
            21,
            20,
            16,
            16,
            15,
            47,
            38,
            38,
            37,
            31,
            24,
            31,
            31,
            31,
            24,
            24,
            19,
            49,
            31,
            38,
            30,
            30,
            30,
            30,
            27,
            27,
            27,
            27,
            24,
            25,
            24,
            38,
            38,
            24,
            15,
            15,
            13,
            30,
            31,
            31,
            31,
            31,
            17,
            17,
            17,
            16,
            26,
            26,
            26,
            26,
            36,
            26,
            19,
            31,
            22,
            22,
            22,
            22,
            16,
            16,
            14,
            14,
            19,
            37,
            31,
            31,
            24,
            23,
            25,
            19,
            19,
            19,
            25,
            25,
            23,
            23,
            31,
            45,
            31,
            31,
            31,
            31,
            31,
            31,
            31,
            31,
            27,
            27,
            17,
            17,
            19,
            19,
            17,
            19,
            19,
            28,
            19,
            25,
            19,
            28,
            19,
            25,
            19,
            28,
            18,
            37,
            24,
            31,
            31,
            31,
            24,
            19,
            19,
            17,
            17,
            17,
            17,
            23,
            23,
            21,
            21,
            21,
            21,
            19,
            19,
            31,
            26,
            26,
            32,
            28,
            26,
            24,
            24,
            28,
            25,
            23,
            23,
            35,
            31,
            31,
            31,
            27,
            27,
            30,
            30,
            34,
            38,
            38,
            28,
            28,
            29,
            29,
            26,
            26,
            24,
            24,
            24,
            24,
            24,
            24,
            29,
            30,
            27,
            27,
            27,
            20,
            19,
            20,
            19,
            37,
            27,
            37,
            27,
            27,
            37,
            26,
            24,
            24,
            19,
            33,
            25,
            23,
            23,
            24,
            24,
            17,
            17,
            23,
            19,
            18,
            26,
            19
           ]
          },
          {
           "axis": {
            "matches": true
           },
           "label": "highwaympg",
           "values": [
            27,
            27,
            26,
            30,
            22,
            25,
            25,
            25,
            20,
            22,
            29,
            29,
            28,
            28,
            25,
            22,
            22,
            20,
            53,
            43,
            43,
            41,
            38,
            30,
            38,
            38,
            38,
            30,
            30,
            24,
            54,
            38,
            42,
            34,
            34,
            34,
            34,
            33,
            33,
            33,
            33,
            28,
            31,
            29,
            43,
            43,
            29,
            19,
            19,
            17,
            31,
            38,
            38,
            38,
            38,
            23,
            23,
            23,
            23,
            32,
            32,
            32,
            32,
            42,
            32,
            27,
            39,
            25,
            25,
            25,
            25,
            18,
            18,
            16,
            16,
            24,
            41,
            38,
            38,
            30,
            30,
            32,
            24,
            24,
            24,
            32,
            32,
            30,
            30,
            37,
            50,
            37,
            37,
            37,
            37,
            37,
            37,
            37,
            37,
            34,
            34,
            22,
            22,
            25,
            25,
            23,
            25,
            24,
            33,
            24,
            25,
            24,
            33,
            24,
            25,
            24,
            33,
            24,
            41,
            30,
            38,
            38,
            38,
            30,
            24,
            27,
            25,
            25,
            25,
            28,
            31,
            31,
            28,
            28,
            28,
            28,
            26,
            26,
            36,
            31,
            31,
            37,
            33,
            32,
            25,
            29,
            32,
            31,
            29,
            23,
            39,
            38,
            38,
            37,
            32,
            32,
            37,
            37,
            36,
            47,
            47,
            34,
            34,
            34,
            34,
            29,
            29,
            30,
            30,
            30,
            30,
            30,
            30,
            34,
            33,
            32,
            32,
            32,
            24,
            24,
            24,
            24,
            46,
            34,
            46,
            34,
            34,
            42,
            32,
            29,
            29,
            24,
            38,
            31,
            28,
            28,
            28,
            28,
            22,
            22,
            28,
            25,
            23,
            27,
            25
           ]
          },
          {
           "axis": {
            "matches": true
           },
           "label": "price",
           "values": [
            13495,
            16500,
            16500,
            13950,
            17450,
            15250,
            17710,
            18920,
            23875,
            17859.167,
            16430,
            16925,
            20970,
            21105,
            24565,
            30760,
            41315,
            36880,
            5151,
            6295,
            6575,
            5572,
            6377,
            7957,
            6229,
            6692,
            7609,
            8558,
            8921,
            12964,
            6479,
            6855,
            5399,
            6529,
            7129,
            7295,
            7295,
            7895,
            9095,
            8845,
            10295,
            12945,
            10345,
            6785,
            8916.5,
            8916.5,
            11048,
            32250,
            35550,
            36000,
            5195,
            6095,
            6795,
            6695,
            7395,
            10945,
            11845,
            13645,
            15645,
            8845,
            8495,
            10595,
            10245,
            10795,
            11245,
            18280,
            18344,
            25552,
            28248,
            28176,
            31600,
            34184,
            35056,
            40960,
            45400,
            16503,
            5389,
            6189,
            6669,
            7689,
            9959,
            8499,
            12629,
            14869,
            14489,
            6989,
            8189,
            9279,
            9279,
            5499,
            7099,
            6649,
            6849,
            7349,
            7299,
            7799,
            7499,
            7999,
            8249,
            8949,
            9549,
            13499,
            14399,
            13499,
            17199,
            19699,
            18399,
            11900,
            13200,
            12440,
            13860,
            15580,
            16900,
            16695,
            17075,
            16630,
            17950,
            18150,
            5572,
            7957,
            6229,
            6692,
            7609,
            8921,
            12764,
            22018,
            32528,
            34028,
            37028,
            31400.5,
            9295,
            9895,
            11850,
            12170,
            15040,
            15510,
            18150,
            18620,
            5118,
            7053,
            7603,
            7126,
            7775,
            9960,
            9233,
            11259,
            7463,
            10198,
            8013,
            11694,
            5348,
            6338,
            6488,
            6918,
            7898,
            8778,
            6938,
            7198,
            7898,
            7788,
            7738,
            8358,
            9258,
            8058,
            8238,
            9298,
            9538,
            8449,
            9639,
            9989,
            11199,
            11549,
            17669,
            8948,
            10698,
            9988,
            10898,
            11248,
            16558,
            15998,
            15690,
            15750,
            7775,
            7975,
            7995,
            8195,
            8495,
            9495,
            9995,
            11595,
            9980,
            13295,
            13845,
            12290,
            12940,
            13415,
            15985,
            16515,
            18420,
            18950,
            16845,
            19045,
            21485,
            22470,
            22625
           ]
          }
         ],
         "hovertemplate": "%{xaxis.title.text}=%{x}<br>%{yaxis.title.text}=%{y}<extra></extra>",
         "legendgroup": "",
         "marker": {
          "color": "#636efa",
          "symbol": "circle"
         },
         "name": "",
         "showlegend": false,
         "type": "splom"
        }
       ],
       "layout": {
        "dragmode": "select",
        "height": 1500,
        "legend": {
         "tracegroupgap": 0
        },
        "margin": {
         "t": 60
        },
        "template": {
         "data": {
          "bar": [
           {
            "error_x": {
             "color": "#2a3f5f"
            },
            "error_y": {
             "color": "#2a3f5f"
            },
            "marker": {
             "line": {
              "color": "#E5ECF6",
              "width": 0.5
             },
             "pattern": {
              "fillmode": "overlay",
              "size": 10,
              "solidity": 0.2
             }
            },
            "type": "bar"
           }
          ],
          "barpolar": [
           {
            "marker": {
             "line": {
              "color": "#E5ECF6",
              "width": 0.5
             },
             "pattern": {
              "fillmode": "overlay",
              "size": 10,
              "solidity": 0.2
             }
            },
            "type": "barpolar"
           }
          ],
          "carpet": [
           {
            "aaxis": {
             "endlinecolor": "#2a3f5f",
             "gridcolor": "white",
             "linecolor": "white",
             "minorgridcolor": "white",
             "startlinecolor": "#2a3f5f"
            },
            "baxis": {
             "endlinecolor": "#2a3f5f",
             "gridcolor": "white",
             "linecolor": "white",
             "minorgridcolor": "white",
             "startlinecolor": "#2a3f5f"
            },
            "type": "carpet"
           }
          ],
          "choropleth": [
           {
            "colorbar": {
             "outlinewidth": 0,
             "ticks": ""
            },
            "type": "choropleth"
           }
          ],
          "contour": [
           {
            "colorbar": {
             "outlinewidth": 0,
             "ticks": ""
            },
            "colorscale": [
             [
              0,
              "#0d0887"
             ],
             [
              0.1111111111111111,
              "#46039f"
             ],
             [
              0.2222222222222222,
              "#7201a8"
             ],
             [
              0.3333333333333333,
              "#9c179e"
             ],
             [
              0.4444444444444444,
              "#bd3786"
             ],
             [
              0.5555555555555556,
              "#d8576b"
             ],
             [
              0.6666666666666666,
              "#ed7953"
             ],
             [
              0.7777777777777778,
              "#fb9f3a"
             ],
             [
              0.8888888888888888,
              "#fdca26"
             ],
             [
              1,
              "#f0f921"
             ]
            ],
            "type": "contour"
           }
          ],
          "contourcarpet": [
           {
            "colorbar": {
             "outlinewidth": 0,
             "ticks": ""
            },
            "type": "contourcarpet"
           }
          ],
          "heatmap": [
           {
            "colorbar": {
             "outlinewidth": 0,
             "ticks": ""
            },
            "colorscale": [
             [
              0,
              "#0d0887"
             ],
             [
              0.1111111111111111,
              "#46039f"
             ],
             [
              0.2222222222222222,
              "#7201a8"
             ],
             [
              0.3333333333333333,
              "#9c179e"
             ],
             [
              0.4444444444444444,
              "#bd3786"
             ],
             [
              0.5555555555555556,
              "#d8576b"
             ],
             [
              0.6666666666666666,
              "#ed7953"
             ],
             [
              0.7777777777777778,
              "#fb9f3a"
             ],
             [
              0.8888888888888888,
              "#fdca26"
             ],
             [
              1,
              "#f0f921"
             ]
            ],
            "type": "heatmap"
           }
          ],
          "heatmapgl": [
           {
            "colorbar": {
             "outlinewidth": 0,
             "ticks": ""
            },
            "colorscale": [
             [
              0,
              "#0d0887"
             ],
             [
              0.1111111111111111,
              "#46039f"
             ],
             [
              0.2222222222222222,
              "#7201a8"
             ],
             [
              0.3333333333333333,
              "#9c179e"
             ],
             [
              0.4444444444444444,
              "#bd3786"
             ],
             [
              0.5555555555555556,
              "#d8576b"
             ],
             [
              0.6666666666666666,
              "#ed7953"
             ],
             [
              0.7777777777777778,
              "#fb9f3a"
             ],
             [
              0.8888888888888888,
              "#fdca26"
             ],
             [
              1,
              "#f0f921"
             ]
            ],
            "type": "heatmapgl"
           }
          ],
          "histogram": [
           {
            "marker": {
             "pattern": {
              "fillmode": "overlay",
              "size": 10,
              "solidity": 0.2
             }
            },
            "type": "histogram"
           }
          ],
          "histogram2d": [
           {
            "colorbar": {
             "outlinewidth": 0,
             "ticks": ""
            },
            "colorscale": [
             [
              0,
              "#0d0887"
             ],
             [
              0.1111111111111111,
              "#46039f"
             ],
             [
              0.2222222222222222,
              "#7201a8"
             ],
             [
              0.3333333333333333,
              "#9c179e"
             ],
             [
              0.4444444444444444,
              "#bd3786"
             ],
             [
              0.5555555555555556,
              "#d8576b"
             ],
             [
              0.6666666666666666,
              "#ed7953"
             ],
             [
              0.7777777777777778,
              "#fb9f3a"
             ],
             [
              0.8888888888888888,
              "#fdca26"
             ],
             [
              1,
              "#f0f921"
             ]
            ],
            "type": "histogram2d"
           }
          ],
          "histogram2dcontour": [
           {
            "colorbar": {
             "outlinewidth": 0,
             "ticks": ""
            },
            "colorscale": [
             [
              0,
              "#0d0887"
             ],
             [
              0.1111111111111111,
              "#46039f"
             ],
             [
              0.2222222222222222,
              "#7201a8"
             ],
             [
              0.3333333333333333,
              "#9c179e"
             ],
             [
              0.4444444444444444,
              "#bd3786"
             ],
             [
              0.5555555555555556,
              "#d8576b"
             ],
             [
              0.6666666666666666,
              "#ed7953"
             ],
             [
              0.7777777777777778,
              "#fb9f3a"
             ],
             [
              0.8888888888888888,
              "#fdca26"
             ],
             [
              1,
              "#f0f921"
             ]
            ],
            "type": "histogram2dcontour"
           }
          ],
          "mesh3d": [
           {
            "colorbar": {
             "outlinewidth": 0,
             "ticks": ""
            },
            "type": "mesh3d"
           }
          ],
          "parcoords": [
           {
            "line": {
             "colorbar": {
              "outlinewidth": 0,
              "ticks": ""
             }
            },
            "type": "parcoords"
           }
          ],
          "pie": [
           {
            "automargin": true,
            "type": "pie"
           }
          ],
          "scatter": [
           {
            "fillpattern": {
             "fillmode": "overlay",
             "size": 10,
             "solidity": 0.2
            },
            "type": "scatter"
           }
          ],
          "scatter3d": [
           {
            "line": {
             "colorbar": {
              "outlinewidth": 0,
              "ticks": ""
             }
            },
            "marker": {
             "colorbar": {
              "outlinewidth": 0,
              "ticks": ""
             }
            },
            "type": "scatter3d"
           }
          ],
          "scattercarpet": [
           {
            "marker": {
             "colorbar": {
              "outlinewidth": 0,
              "ticks": ""
             }
            },
            "type": "scattercarpet"
           }
          ],
          "scattergeo": [
           {
            "marker": {
             "colorbar": {
              "outlinewidth": 0,
              "ticks": ""
             }
            },
            "type": "scattergeo"
           }
          ],
          "scattergl": [
           {
            "marker": {
             "colorbar": {
              "outlinewidth": 0,
              "ticks": ""
             }
            },
            "type": "scattergl"
           }
          ],
          "scattermapbox": [
           {
            "marker": {
             "colorbar": {
              "outlinewidth": 0,
              "ticks": ""
             }
            },
            "type": "scattermapbox"
           }
          ],
          "scatterpolar": [
           {
            "marker": {
             "colorbar": {
              "outlinewidth": 0,
              "ticks": ""
             }
            },
            "type": "scatterpolar"
           }
          ],
          "scatterpolargl": [
           {
            "marker": {
             "colorbar": {
              "outlinewidth": 0,
              "ticks": ""
             }
            },
            "type": "scatterpolargl"
           }
          ],
          "scatterternary": [
           {
            "marker": {
             "colorbar": {
              "outlinewidth": 0,
              "ticks": ""
             }
            },
            "type": "scatterternary"
           }
          ],
          "surface": [
           {
            "colorbar": {
             "outlinewidth": 0,
             "ticks": ""
            },
            "colorscale": [
             [
              0,
              "#0d0887"
             ],
             [
              0.1111111111111111,
              "#46039f"
             ],
             [
              0.2222222222222222,
              "#7201a8"
             ],
             [
              0.3333333333333333,
              "#9c179e"
             ],
             [
              0.4444444444444444,
              "#bd3786"
             ],
             [
              0.5555555555555556,
              "#d8576b"
             ],
             [
              0.6666666666666666,
              "#ed7953"
             ],
             [
              0.7777777777777778,
              "#fb9f3a"
             ],
             [
              0.8888888888888888,
              "#fdca26"
             ],
             [
              1,
              "#f0f921"
             ]
            ],
            "type": "surface"
           }
          ],
          "table": [
           {
            "cells": {
             "fill": {
              "color": "#EBF0F8"
             },
             "line": {
              "color": "white"
             }
            },
            "header": {
             "fill": {
              "color": "#C8D4E3"
             },
             "line": {
              "color": "white"
             }
            },
            "type": "table"
           }
          ]
         },
         "layout": {
          "annotationdefaults": {
           "arrowcolor": "#2a3f5f",
           "arrowhead": 0,
           "arrowwidth": 1
          },
          "autotypenumbers": "strict",
          "coloraxis": {
           "colorbar": {
            "outlinewidth": 0,
            "ticks": ""
           }
          },
          "colorscale": {
           "diverging": [
            [
             0,
             "#8e0152"
            ],
            [
             0.1,
             "#c51b7d"
            ],
            [
             0.2,
             "#de77ae"
            ],
            [
             0.3,
             "#f1b6da"
            ],
            [
             0.4,
             "#fde0ef"
            ],
            [
             0.5,
             "#f7f7f7"
            ],
            [
             0.6,
             "#e6f5d0"
            ],
            [
             0.7,
             "#b8e186"
            ],
            [
             0.8,
             "#7fbc41"
            ],
            [
             0.9,
             "#4d9221"
            ],
            [
             1,
             "#276419"
            ]
           ],
           "sequential": [
            [
             0,
             "#0d0887"
            ],
            [
             0.1111111111111111,
             "#46039f"
            ],
            [
             0.2222222222222222,
             "#7201a8"
            ],
            [
             0.3333333333333333,
             "#9c179e"
            ],
            [
             0.4444444444444444,
             "#bd3786"
            ],
            [
             0.5555555555555556,
             "#d8576b"
            ],
            [
             0.6666666666666666,
             "#ed7953"
            ],
            [
             0.7777777777777778,
             "#fb9f3a"
            ],
            [
             0.8888888888888888,
             "#fdca26"
            ],
            [
             1,
             "#f0f921"
            ]
           ],
           "sequentialminus": [
            [
             0,
             "#0d0887"
            ],
            [
             0.1111111111111111,
             "#46039f"
            ],
            [
             0.2222222222222222,
             "#7201a8"
            ],
            [
             0.3333333333333333,
             "#9c179e"
            ],
            [
             0.4444444444444444,
             "#bd3786"
            ],
            [
             0.5555555555555556,
             "#d8576b"
            ],
            [
             0.6666666666666666,
             "#ed7953"
            ],
            [
             0.7777777777777778,
             "#fb9f3a"
            ],
            [
             0.8888888888888888,
             "#fdca26"
            ],
            [
             1,
             "#f0f921"
            ]
           ]
          },
          "colorway": [
           "#636efa",
           "#EF553B",
           "#00cc96",
           "#ab63fa",
           "#FFA15A",
           "#19d3f3",
           "#FF6692",
           "#B6E880",
           "#FF97FF",
           "#FECB52"
          ],
          "font": {
           "color": "#2a3f5f"
          },
          "geo": {
           "bgcolor": "white",
           "lakecolor": "white",
           "landcolor": "#E5ECF6",
           "showlakes": true,
           "showland": true,
           "subunitcolor": "white"
          },
          "hoverlabel": {
           "align": "left"
          },
          "hovermode": "closest",
          "mapbox": {
           "style": "light"
          },
          "paper_bgcolor": "white",
          "plot_bgcolor": "#E5ECF6",
          "polar": {
           "angularaxis": {
            "gridcolor": "white",
            "linecolor": "white",
            "ticks": ""
           },
           "bgcolor": "#E5ECF6",
           "radialaxis": {
            "gridcolor": "white",
            "linecolor": "white",
            "ticks": ""
           }
          },
          "scene": {
           "xaxis": {
            "backgroundcolor": "#E5ECF6",
            "gridcolor": "white",
            "gridwidth": 2,
            "linecolor": "white",
            "showbackground": true,
            "ticks": "",
            "zerolinecolor": "white"
           },
           "yaxis": {
            "backgroundcolor": "#E5ECF6",
            "gridcolor": "white",
            "gridwidth": 2,
            "linecolor": "white",
            "showbackground": true,
            "ticks": "",
            "zerolinecolor": "white"
           },
           "zaxis": {
            "backgroundcolor": "#E5ECF6",
            "gridcolor": "white",
            "gridwidth": 2,
            "linecolor": "white",
            "showbackground": true,
            "ticks": "",
            "zerolinecolor": "white"
           }
          },
          "shapedefaults": {
           "line": {
            "color": "#2a3f5f"
           }
          },
          "ternary": {
           "aaxis": {
            "gridcolor": "white",
            "linecolor": "white",
            "ticks": ""
           },
           "baxis": {
            "gridcolor": "white",
            "linecolor": "white",
            "ticks": ""
           },
           "bgcolor": "#E5ECF6",
           "caxis": {
            "gridcolor": "white",
            "linecolor": "white",
            "ticks": ""
           }
          },
          "title": {
           "x": 0.05
          },
          "xaxis": {
           "automargin": true,
           "gridcolor": "white",
           "linecolor": "white",
           "ticks": "",
           "title": {
            "standoff": 15
           },
           "zerolinecolor": "white",
           "zerolinewidth": 2
          },
          "yaxis": {
           "automargin": true,
           "gridcolor": "white",
           "linecolor": "white",
           "ticks": "",
           "title": {
            "standoff": 15
           },
           "zerolinecolor": "white",
           "zerolinewidth": 2
          }
         }
        },
        "width": 1300
       }
      }
     },
     "metadata": {},
     "output_type": "display_data"
    }
   ],
   "source": [
    "import plotly.express as px\n",
    "\n",
    "fig = px.scatter_matrix(cuantitativo, width=1300, height=1500)\n",
    "fig.show()"
   ]
  },
  {
   "cell_type": "code",
   "execution_count": null,
   "metadata": {},
   "outputs": [],
   "source": []
  }
 ],
 "metadata": {
  "kernelspec": {
   "display_name": "Python 3",
   "language": "python",
   "name": "python3"
  },
  "language_info": {
   "codemirror_mode": {
    "name": "ipython",
    "version": 3
   },
   "file_extension": ".py",
   "mimetype": "text/x-python",
   "name": "python",
   "nbconvert_exporter": "python",
   "pygments_lexer": "ipython3",
   "version": "3.9.6"
  },
  "orig_nbformat": 4
 },
 "nbformat": 4,
 "nbformat_minor": 2
}
